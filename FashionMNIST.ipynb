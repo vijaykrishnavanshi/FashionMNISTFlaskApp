{
 "cells": [
  {
   "cell_type": "code",
   "execution_count": 9,
   "metadata": {},
   "outputs": [],
   "source": [
    "from keras.utils import to_categorical\n",
    "import numpy as np\n",
    "import pandas as pd\n",
    "from sklearn.model_selection import train_test_split\n",
    "\n",
    "data_train = pd.read_csv('data/FashionMNIST/fashion-mnist_train.csv')\n",
    "data_test = pd.read_csv('data/FashionMNIST/fashion-mnist_test.csv')\n",
    "\n",
    "img_rows, img_cols = 28, 28\n",
    "input_shape = (img_rows, img_cols, 1)\n",
    "\n",
    "X = np.array(data_train.iloc[:, 1:])\n",
    "y = to_categorical(np.array(data_train.iloc[:, 0]))\n",
    "\n",
    "#Here we split validation data to optimiza classifier during training\n",
    "X_train, X_val, y_train, y_val = train_test_split(X, y, test_size=0.2, random_state=13)\n",
    "\n",
    "#Test data\n",
    "X_test = np.array(data_test.iloc[:, 1:])\n",
    "y_test = to_categorical(np.array(data_test.iloc[:, 0]))\n",
    "\n",
    "\n",
    "\n",
    "X_train = X_train.reshape(X_train.shape[0], img_rows, img_cols, 1)\n",
    "X_test = X_test.reshape(X_test.shape[0], img_rows, img_cols, 1)\n",
    "X_val = X_val.reshape(X_val.shape[0], img_rows, img_cols, 1)\n",
    "\n",
    "X_train = X_train.astype('float32')\n",
    "X_test = X_test.astype('float32')\n",
    "X_val = X_val.astype('float32')\n",
    "X_train /= 255\n",
    "X_test /= 255\n",
    "X_val /= 255"
   ]
  },
  {
   "cell_type": "code",
   "execution_count": 16,
   "metadata": {
    "collapsed": true
   },
   "outputs": [],
   "source": [
    "import keras\n",
    "from keras.models import Sequential\n",
    "from keras.layers import Dense, Dropout, Flatten\n",
    "from keras.layers import Conv2D, MaxPooling2D\n",
    "from keras.layers.normalization import BatchNormalization\n",
    "\n",
    "batch_size = 256\n",
    "num_classes = 10\n",
    "epochs = 50\n",
    "\n",
    "#input image dimensions\n",
    "img_rows, img_cols = 28, 28\n",
    "\n",
    "model = Sequential()\n",
    "model.add(Conv2D(128, kernel_size=(3, 3),\n",
    "                 activation='relu',\n",
    "                 kernel_initializer='he_normal',\n",
    "                 input_shape=input_shape))\n",
    "model.add(MaxPooling2D((2, 2)))\n",
    "model.add(Dropout(0.5))\n",
    "model.add(Conv2D(128, (3, 3), activation='relu'))\n",
    "model.add(MaxPooling2D(pool_size=(2, 2)))\n",
    "model.add(Dropout(0.25))\n",
    "model.add(Conv2D(128, (3, 3), activation='relu'))\n",
    "model.add(Dropout(0.5))\n",
    "model.add(Flatten())\n",
    "model.add(Dense(256, activation='relu'))\n",
    "model.add(Dropout(0.5))\n",
    "model.add(Dense(num_classes, activation='softmax'))\n",
    "\n",
    "model.compile(loss=keras.losses.categorical_crossentropy,\n",
    "              optimizer=keras.optimizers.Adam(),\n",
    "              metrics=['accuracy'])"
   ]
  },
  {
   "cell_type": "code",
   "execution_count": 17,
   "metadata": {},
   "outputs": [
    {
     "name": "stdout",
     "output_type": "stream",
     "text": [
      "_________________________________________________________________\n",
      "Layer (type)                 Output Shape              Param #   \n",
      "=================================================================\n",
      "conv2d_10 (Conv2D)           (None, 26, 26, 128)       1280      \n",
      "_________________________________________________________________\n",
      "max_pooling2d_7 (MaxPooling2 (None, 13, 13, 128)       0         \n",
      "_________________________________________________________________\n",
      "dropout_13 (Dropout)         (None, 13, 13, 128)       0         \n",
      "_________________________________________________________________\n",
      "conv2d_11 (Conv2D)           (None, 11, 11, 128)       147584    \n",
      "_________________________________________________________________\n",
      "max_pooling2d_8 (MaxPooling2 (None, 5, 5, 128)         0         \n",
      "_________________________________________________________________\n",
      "dropout_14 (Dropout)         (None, 5, 5, 128)         0         \n",
      "_________________________________________________________________\n",
      "conv2d_12 (Conv2D)           (None, 3, 3, 128)         147584    \n",
      "_________________________________________________________________\n",
      "dropout_15 (Dropout)         (None, 3, 3, 128)         0         \n",
      "_________________________________________________________________\n",
      "flatten_4 (Flatten)          (None, 1152)              0         \n",
      "_________________________________________________________________\n",
      "dense_7 (Dense)              (None, 256)               295168    \n",
      "_________________________________________________________________\n",
      "dropout_16 (Dropout)         (None, 256)               0         \n",
      "_________________________________________________________________\n",
      "dense_8 (Dense)              (None, 10)                2570      \n",
      "=================================================================\n",
      "Total params: 594,186\n",
      "Trainable params: 594,186\n",
      "Non-trainable params: 0\n",
      "_________________________________________________________________\n"
     ]
    }
   ],
   "source": [
    "model.summary()"
   ]
  },
  {
   "cell_type": "code",
   "execution_count": 18,
   "metadata": {},
   "outputs": [
    {
     "name": "stdout",
     "output_type": "stream",
     "text": [
      "Train on 48000 samples, validate on 12000 samples\n",
      "Epoch 1/50\n",
      "48000/48000 [==============================] - 392s - loss: 0.9652 - acc: 0.6389 - val_loss: 0.5530 - val_acc: 0.7951\n",
      "Epoch 2/50\n",
      "48000/48000 [==============================] - 388s - loss: 0.5625 - acc: 0.7879 - val_loss: 0.4376 - val_acc: 0.8383\n",
      "Epoch 3/50\n",
      "48000/48000 [==============================] - 388s - loss: 0.4775 - acc: 0.8245 - val_loss: 0.3810 - val_acc: 0.8556\n",
      "Epoch 4/50\n",
      "48000/48000 [==============================] - 388s - loss: 0.4278 - acc: 0.8420 - val_loss: 0.3427 - val_acc: 0.8717\n",
      "Epoch 5/50\n",
      "48000/48000 [==============================] - 393s - loss: 0.3885 - acc: 0.8580 - val_loss: 0.3413 - val_acc: 0.8722\n",
      "Epoch 6/50\n",
      "48000/48000 [==============================] - 388s - loss: 0.3667 - acc: 0.8656 - val_loss: 0.3022 - val_acc: 0.8871\n",
      "Epoch 7/50\n",
      "48000/48000 [==============================] - 388s - loss: 0.3475 - acc: 0.8718 - val_loss: 0.2919 - val_acc: 0.8936\n",
      "Epoch 8/50\n",
      "48000/48000 [==============================] - 388s - loss: 0.3359 - acc: 0.8778 - val_loss: 0.2870 - val_acc: 0.8928\n",
      "Epoch 9/50\n",
      "48000/48000 [==============================] - 388s - loss: 0.3224 - acc: 0.8821 - val_loss: 0.2823 - val_acc: 0.8921\n",
      "Epoch 10/50\n",
      "48000/48000 [==============================] - 431s - loss: 0.3162 - acc: 0.8836 - val_loss: 0.2683 - val_acc: 0.9005\n",
      "Epoch 11/50\n",
      "48000/48000 [==============================] - 420s - loss: 0.3037 - acc: 0.8893 - val_loss: 0.2652 - val_acc: 0.9019\n",
      "Epoch 12/50\n",
      "48000/48000 [==============================] - 419s - loss: 0.2975 - acc: 0.8918 - val_loss: 0.2567 - val_acc: 0.9032\n",
      "Epoch 13/50\n",
      "48000/48000 [==============================] - 440s - loss: 0.2909 - acc: 0.8928 - val_loss: 0.2574 - val_acc: 0.9033\n",
      "Epoch 14/50\n",
      "48000/48000 [==============================] - 427s - loss: 0.2857 - acc: 0.8946 - val_loss: 0.2557 - val_acc: 0.9027\n",
      "Epoch 15/50\n",
      "48000/48000 [==============================] - 419s - loss: 0.2780 - acc: 0.8978 - val_loss: 0.2460 - val_acc: 0.9078\n",
      "Epoch 16/50\n",
      "48000/48000 [==============================] - 442s - loss: 0.2748 - acc: 0.8969 - val_loss: 0.2439 - val_acc: 0.9064\n",
      "Epoch 17/50\n",
      "48000/48000 [==============================] - 428s - loss: 0.2682 - acc: 0.9009 - val_loss: 0.2427 - val_acc: 0.9092\n",
      "Epoch 18/50\n",
      "48000/48000 [==============================] - 424s - loss: 0.2651 - acc: 0.9020 - val_loss: 0.2474 - val_acc: 0.9082\n",
      "Epoch 19/50\n",
      "48000/48000 [==============================] - 437s - loss: 0.2647 - acc: 0.9020 - val_loss: 0.2404 - val_acc: 0.9097\n",
      "Epoch 20/50\n",
      "48000/48000 [==============================] - 443s - loss: 0.2616 - acc: 0.9037 - val_loss: 0.2369 - val_acc: 0.9108\n",
      "Epoch 21/50\n",
      "48000/48000 [==============================] - 427s - loss: 0.2526 - acc: 0.9073 - val_loss: 0.2347 - val_acc: 0.9117\n",
      "Epoch 22/50\n",
      "48000/48000 [==============================] - 431s - loss: 0.2537 - acc: 0.9055 - val_loss: 0.2333 - val_acc: 0.9113\n",
      "Epoch 23/50\n",
      "48000/48000 [==============================] - 433s - loss: 0.2484 - acc: 0.9075 - val_loss: 0.2308 - val_acc: 0.9126\n",
      "Epoch 24/50\n",
      "48000/48000 [==============================] - 420s - loss: 0.2463 - acc: 0.9086 - val_loss: 0.2311 - val_acc: 0.9140\n",
      "Epoch 25/50\n",
      "48000/48000 [==============================] - 415s - loss: 0.2380 - acc: 0.9121 - val_loss: 0.2330 - val_acc: 0.9138\n",
      "Epoch 26/50\n",
      "48000/48000 [==============================] - 425s - loss: 0.2381 - acc: 0.9121 - val_loss: 0.2249 - val_acc: 0.9137\n",
      "Epoch 27/50\n",
      "48000/48000 [==============================] - 416s - loss: 0.2371 - acc: 0.9127 - val_loss: 0.2250 - val_acc: 0.9147\n",
      "Epoch 28/50\n",
      "48000/48000 [==============================] - 415s - loss: 0.2364 - acc: 0.9125 - val_loss: 0.2278 - val_acc: 0.9146\n",
      "Epoch 29/50\n",
      "48000/48000 [==============================] - 435s - loss: 0.2346 - acc: 0.9129 - val_loss: 0.2295 - val_acc: 0.9152\n",
      "Epoch 30/50\n",
      "48000/48000 [==============================] - 423s - loss: 0.2298 - acc: 0.9154 - val_loss: 0.2182 - val_acc: 0.9191\n",
      "Epoch 31/50\n",
      "48000/48000 [==============================] - 419s - loss: 0.2280 - acc: 0.9155 - val_loss: 0.2227 - val_acc: 0.9172\n",
      "Epoch 32/50\n",
      "48000/48000 [==============================] - 433s - loss: 0.2258 - acc: 0.9162 - val_loss: 0.2166 - val_acc: 0.9192\n",
      "Epoch 33/50\n",
      "48000/48000 [==============================] - 421s - loss: 0.2264 - acc: 0.9160 - val_loss: 0.2205 - val_acc: 0.9181\n",
      "Epoch 34/50\n",
      "48000/48000 [==============================] - 419s - loss: 0.2157 - acc: 0.9182 - val_loss: 0.2208 - val_acc: 0.9180\n",
      "Epoch 35/50\n",
      "48000/48000 [==============================] - 436s - loss: 0.2235 - acc: 0.9164 - val_loss: 0.2168 - val_acc: 0.9201\n",
      "Epoch 36/50\n",
      "48000/48000 [==============================] - 438s - loss: 0.2218 - acc: 0.9180 - val_loss: 0.2145 - val_acc: 0.9188\n",
      "Epoch 37/50\n",
      "48000/48000 [==============================] - 434s - loss: 0.2207 - acc: 0.9173 - val_loss: 0.2124 - val_acc: 0.9196\n",
      "Epoch 38/50\n",
      "48000/48000 [==============================] - 451s - loss: 0.2142 - acc: 0.9179 - val_loss: 0.2178 - val_acc: 0.9187\n",
      "Epoch 39/50\n",
      "48000/48000 [==============================] - 438s - loss: 0.2146 - acc: 0.9196 - val_loss: 0.2170 - val_acc: 0.9196\n",
      "Epoch 40/50\n",
      "48000/48000 [==============================] - 434s - loss: 0.2061 - acc: 0.9227 - val_loss: 0.2146 - val_acc: 0.9203\n",
      "Epoch 41/50\n",
      "48000/48000 [==============================] - 432s - loss: 0.2081 - acc: 0.9216 - val_loss: 0.2120 - val_acc: 0.9200\n",
      "Epoch 42/50\n",
      "48000/48000 [==============================] - 397s - loss: 0.2127 - acc: 0.9203 - val_loss: 0.2171 - val_acc: 0.9206\n",
      "Epoch 43/50\n",
      "48000/48000 [==============================] - 393s - loss: 0.2109 - acc: 0.9214 - val_loss: 0.2104 - val_acc: 0.9199\n",
      "Epoch 44/50\n",
      "48000/48000 [==============================] - 392s - loss: 0.2079 - acc: 0.9213 - val_loss: 0.2138 - val_acc: 0.9213\n",
      "Epoch 45/50\n",
      "48000/48000 [==============================] - 392s - loss: 0.2046 - acc: 0.9233 - val_loss: 0.2111 - val_acc: 0.9228\n",
      "Epoch 46/50\n",
      "48000/48000 [==============================] - 392s - loss: 0.2034 - acc: 0.9241 - val_loss: 0.2151 - val_acc: 0.9212\n",
      "Epoch 47/50\n",
      "48000/48000 [==============================] - 395s - loss: 0.2017 - acc: 0.9239 - val_loss: 0.2124 - val_acc: 0.9212\n",
      "Epoch 48/50\n",
      "48000/48000 [==============================] - 401s - loss: 0.1984 - acc: 0.9264 - val_loss: 0.2164 - val_acc: 0.9213\n",
      "Epoch 49/50\n",
      "48000/48000 [==============================] - 399s - loss: 0.2003 - acc: 0.9237 - val_loss: 0.2117 - val_acc: 0.9209\n",
      "Epoch 50/50\n",
      "48000/48000 [==============================] - 448s - loss: 0.1997 - acc: 0.9246 - val_loss: 0.2136 - val_acc: 0.9209\n"
     ]
    }
   ],
   "source": [
    "history = model.fit(X_train, y_train,\n",
    "          batch_size=batch_size,\n",
    "          epochs=epochs,\n",
    "          verbose=1,\n",
    "          validation_data=(X_val, y_val))\n",
    "score = model.evaluate(X_test, y_test, verbose=0)"
   ]
  },
  {
   "cell_type": "code",
   "execution_count": 19,
   "metadata": {},
   "outputs": [
    {
     "name": "stdout",
     "output_type": "stream",
     "text": [
      "('Test loss:', 0.20356046823859214)\n",
      "('Test accuracy:', 0.92779999999999996)\n"
     ]
    }
   ],
   "source": [
    "print('Test loss:', score[0])\n",
    "print('Test accuracy:', score[1])"
   ]
  },
  {
   "cell_type": "code",
   "execution_count": 20,
   "metadata": {},
   "outputs": [
    {
     "name": "stdout",
     "output_type": "stream",
     "text": [
      "Saved model to disk\n"
     ]
    }
   ],
   "source": [
    "model_json = model.to_json()\n",
    "with open(\"model/fashionMNISTModelv3.json\", \"w\") as json_file:\n",
    "    json_file.write(model_json)\n",
    "# serialize weights to HDF5\n",
    "model.save_weights(\"model/fashionMNISTModelv3.h5\")\n",
    "print(\"Saved model to disk\")"
   ]
  },
  {
   "cell_type": "code",
   "execution_count": 21,
   "metadata": {},
   "outputs": [
    {
     "data": {
      "image/png": "[encoded data removed]",
      "text/plain": [
       "<matplotlib.figure.Figure at 0x7f6c2c07d290>"
      ]
     },
     "metadata": {},
     "output_type": "display_data"
    },
    {
     "data": {
      "image/png": "[encoded data removed]",
      "text/plain": [
       "<matplotlib.figure.Figure at 0x7f6c6eb01a10>"
      ]
     },
     "metadata": {},
     "output_type": "display_data"
    }
   ],
   "source": [
    "import matplotlib.pyplot as plt\n",
    "%matplotlib inline\n",
    "accuracy = history.history['acc']\n",
    "val_accuracy = history.history['val_acc']\n",
    "loss = history.history['loss']\n",
    "val_loss = history.history['val_loss']\n",
    "epochs = range(len(accuracy))\n",
    "plt.plot(epochs, accuracy, 'bo', label='Training accuracy')\n",
    "plt.plot(epochs, val_accuracy, 'b', label='Validation accuracy')\n",
    "plt.title('Training and validation accuracy')\n",
    "plt.legend()\n",
    "plt.figure()\n",
    "plt.plot(epochs, loss, 'bo', label='Training loss')\n",
    "plt.plot(epochs, val_loss, 'b', label='Validation loss')\n",
    "plt.title('Training and validation loss')\n",
    "plt.legend()\n",
    "plt.show()"
   ]
  },
  {
   "cell_type": "code",
   "execution_count": null,
   "metadata": {
    "collapsed": true
   },
   "outputs": [],
   "source": []
  }
 ],
 "metadata": {
  "kernelspec": {
   "display_name": "Python 2",
   "language": "python",
   "name": "python2"
  },
  "language_info": {
   "codemirror_mode": {
    "name": "ipython",
    "version": 2
   },
   "file_extension": ".py",
   "mimetype": "text/x-python",
   "name": "python",
   "nbconvert_exporter": "python",
   "pygments_lexer": "ipython2",
   "version": "2.7.12"
  }
 },
 "nbformat": 4,
 "nbformat_minor": 2
}
